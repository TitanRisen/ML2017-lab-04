{
 "cells": [
  {
   "cell_type": "code",
   "execution_count": 17,
   "metadata": {
    "collapsed": true
   },
   "outputs": [],
   "source": [
    "from numpy import *\n",
    "import matplotlib.pyplot as plt"
   ]
  },
  {
   "cell_type": "code",
   "execution_count": 18,
   "metadata": {
    "collapsed": true
   },
   "outputs": [],
   "source": [
    "#this is user1's data\n",
    "users = 943\n",
    "items = 1682\n",
    "def get_data(path):\n",
    "    file = open(path,'r')\n",
    "    R = zeros((users,items))\n",
    "    for line in file:\n",
    "        movie_list = list(map(int,line.split('\\t')))\n",
    "        R[movie_list[0]-1,movie_list[1]-1]=movie_list[2]\n",
    "    return R"
   ]
  },
  {
   "cell_type": "code",
   "execution_count": 19,
   "metadata": {
    "collapsed": true
   },
   "outputs": [],
   "source": [
    "lamda = 0.01\n",
    "def split_matrix(R,Rt,K,lr,iter):\n",
    "    m, n = shape(R)\n",
    "    P = mat(random.random((m, K)))\n",
    "    Q = mat(random.random((K, n)))\n",
    "    loss_list_train=[]\n",
    "    loss_list_test=[]\n",
    "    for i in range(iter):\n",
    "        #print (i)\n",
    "        for i in range(m):\n",
    "            for j in range(n):\n",
    "                if R[i, j] > 0:\n",
    "                    error = R[i, j]\n",
    "                    for k in range(K):\n",
    "                        error = error - P[i, k] * Q[k, j]\n",
    "                    for k in range(K):\n",
    "                        P[i, k] = P[i, k] + lr * (2 * error * Q[k, j] - lamda * P[i, k])\n",
    "                        Q[k, j] = Q[k, j] + lr * (2 * error * P[i, k] - lamda * Q[k, j])\n",
    "        loss = 0.0\n",
    "        for i in range(m):\n",
    "            for j in range(n):\n",
    "                if R[i, j] > 0:\n",
    "                    error = 0.0\n",
    "                    for k in range(K):\n",
    "                        error = error + P[i, k] * Q[k, j]\n",
    "                    loss = (R[i, j] - error) * (R[i, j] - error)\n",
    "                    for k in range(K):\n",
    "                        loss = loss +lamda* (P[i, k] * P[i, k] + Q[k, j] * Q[k, j]) / 2\n",
    "        #print (\"train loss:\",loss)\n",
    "        loss_list_train.append(loss)\n",
    "        loss = 0.0\n",
    "        for i in range(m):\n",
    "            for j in range(n):\n",
    "                if Rt[i, j] > 0:\n",
    "                    error = 0.0\n",
    "                    for k in range(K):\n",
    "                        error = error + P[i, k] * Q[k, j]\n",
    "                    loss = (Rt[i, j] - error) * (Rt[i, j] - error)\n",
    "                    for k in range(K):\n",
    "                        loss = loss + lamda * (P[i, k] * P[i, k] + Q[k, j] * Q[k, j]) / 2\n",
    "        if loss < 0.001:\n",
    "            break\n",
    "        # print step\n",
    "        loss_list_test.append(loss)\n",
    "        #print(\"test loss: \",loss)\n",
    "    return P,Q,loss_list_train,loss_list_test"
   ]
  },
  {
   "cell_type": "code",
   "execution_count": 20,
   "metadata": {
    "collapsed": true
   },
   "outputs": [],
   "source": [
    "lamda = 0.01\n",
    "def als(R,Rt,K,iter):\n",
    "    m, n = shape(R)\n",
    "    P = mat(random.random((m, K)))\n",
    "    Q = mat(random.random((K, n)))\n",
    "    loss_list_train = []\n",
    "    loss_list_test = []\n",
    "    for i in range(iter):\n",
    "        #print (i)\n",
    "        I = mat(eye(30))\n",
    "        #optimize P\n",
    "        for i in range(m):\n",
    "            u = 0\n",
    "            v = zeros((30,30))\n",
    "            for j in range(n):\n",
    "                if R[i, j] > 0:\n",
    "                    #u = u + R[i, j] * Q[:, j].T\n",
    "                    v = v +Q[:, j]* Q[:, j].T + 0.01*I\n",
    "            #print (shape(v),shape(u))\n",
    "            u = R[i,:].T * Q.T\n",
    "            if linalg.det(v) != 0:\n",
    "                P[i, :] = u * linalg.pinv(v)\n",
    "        #optimize Q fixing P\n",
    "        for j in range(n):\n",
    "            u = 0\n",
    "            v = zeros((30,30))\n",
    "            for i in range(m):\n",
    "                if R[i, j] > 0:\n",
    "                    #u = u + R[i, j] * P[i, :].T\n",
    "                    v = v + P[i, :].T * P[i, :] + 0.01 * I\n",
    "            u =  R[:,j] * P\n",
    "            if linalg.det(v) != 0:\n",
    "                Q[:, j] =  (u * linalg.pinv(v)).T\n",
    "        loss = 0.0\n",
    "        for i in range(m):\n",
    "            for j in range(n):\n",
    "                if R[i, j] > 0:\n",
    "                    error = 0.0\n",
    "                    for k in range(K):\n",
    "                        error = error + P[i, k] * Q[k, j]\n",
    "                    loss = (R[i, j] - error) * (R[i, j] - error)\n",
    "                    for k in range(K):\n",
    "                        loss = loss + lamda * (P[i, k] * P[i, k] + Q[k, j] * Q[k, j]) / 2\n",
    "        #print(\"train loss:\", loss)\n",
    "        loss_list_train.append(loss)\n",
    "        loss = 0.0\n",
    "        for i in range(m):\n",
    "            for j in range(n):\n",
    "                if Rt[i, j] > 0:\n",
    "                    error = 0.0\n",
    "                    for k in range(K):\n",
    "                        error = error + P[i, k] * Q[k, j]\n",
    "                    loss = (Rt[i, j] - error) * (Rt[i, j] - error)\n",
    "                    for k in range(K):\n",
    "                        loss = loss + lamda * (P[i, k] * P[i, k] + Q[k, j] * Q[k, j]) / 2\n",
    "        if loss < 0.001:\n",
    "            break\n",
    "        # print step\n",
    "        loss_list_test.append(loss)\n",
    "        #print(\"test loss: \", loss)\n",
    "    return P, Q, loss_list_train, loss_list_test"
   ]
  },
  {
   "cell_type": "code",
   "execution_count": 21,
   "metadata": {},
   "outputs": [],
   "source": [
    "if __name__ == \"__main__\":\n",
    "    path = \"./ml-100k/u1.base\"\n",
    "    R_train=get_data(path)\n",
    "    path = \"./ml-100k/u1.test\"\n",
    "    R_test = get_data(path)\n",
    "    iter = 20\n",
    "    k = 30\n",
    "    lr = 0.01\n",
    "    P,Q,loss_list_train,loss_list_test = split_matrix(R_train,R_test,k,lr,iter)\n",
    "    iter1 = range(20)\n",
    "    result = P*Q"
   ]
  },
  {
   "cell_type": "code",
   "execution_count": 22,
   "metadata": {},
   "outputs": [
    {
     "data": {
      "image/png": "[encoded data removed]",
      "text/plain": [
       "<matplotlib.figure.Figure at 0x20c40257748>"
      ]
     },
     "metadata": {},
     "output_type": "display_data"
    }
   ],
   "source": [
    "    plt.figure(1)\n",
    "    plt.plot(iter1,loss_list_train,label='train loss')\n",
    "    plt.plot(iter1,loss_list_test,label='test loss')\n",
    "    plt.legend(loc='upper right')\n",
    "    plt.show()"
   ]
  },
  {
   "cell_type": "code",
   "execution_count": 23,
   "metadata": {},
   "outputs": [],
   "source": [
    "    P, Q, loss_list_train, loss_list_test = als(R_train, R_test, k, iter)"
   ]
  },
  {
   "cell_type": "code",
   "execution_count": 24,
   "metadata": {},
   "outputs": [
    {
     "data": {
      "image/png": "[encoded data removed]",
      "text/plain": [
       "<matplotlib.figure.Figure at 0x20c40316f60>"
      ]
     },
     "metadata": {},
     "output_type": "display_data"
    }
   ],
   "source": [
    "    plt.figure(2)\n",
    "    plt.plot(iter1,loss_list_train,label='train loss')\n",
    "    plt.plot(iter1,loss_list_test,label='test loss')\n",
    "    plt.legend(loc='upper right')\n",
    "    plt.show()"
   ]
  }
 ],
 "metadata": {
  "kernelspec": {
   "display_name": "Python 3",
   "language": "python",
   "name": "python3"
  },
  "language_info": {
   "codemirror_mode": {
    "name": "ipython",
    "version": 3
   },
   "file_extension": ".py",
   "mimetype": "text/x-python",
   "name": "python",
   "nbconvert_exporter": "python",
   "pygments_lexer": "ipython3",
   "version": "3.6.3"
  }
 },
 "nbformat": 4,
 "nbformat_minor": 2
}
